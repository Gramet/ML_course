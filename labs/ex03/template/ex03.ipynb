{
 "cells": [
  {
   "cell_type": "code",
   "execution_count": 1,
   "metadata": {
    "collapsed": false
   },
   "outputs": [],
   "source": [
    "# Useful starting lines\n",
    "%matplotlib inline\n",
    "import numpy as np\n",
    "import matplotlib.pyplot as plt\n",
    "%load_ext autoreload\n",
    "%autoreload 2"
   ]
  },
  {
   "cell_type": "markdown",
   "metadata": {},
   "source": [
    "# 1 Least squares and linear basis functions models\n",
    "## 1.1 Least squares"
   ]
  },
  {
   "cell_type": "code",
   "execution_count": 2,
   "metadata": {
    "collapsed": true
   },
   "outputs": [],
   "source": [
    "def least_squares(y, tx):\n",
    "    \"\"\"calculate the least squares solution.\"\"\"\n",
    "    # ***************************************************\n",
    "    # INSERT YOUR CODE HERE\n",
    "    # least squares: TODO\n",
    "    # returns mse, and optimal weights\n",
    "    # ***************************************************\n",
    "    w_opt = np.linalg.inv(tx.T.dot(tx)).dot(tx.T).dot(y)\n",
    "    #w_opt = np.linalg.solve(tx,y)\n",
    "    e = y - tx.dot(w_opt)\n",
    "    mse = 1/(2*np.shape(tx)[0]) * e.dot(e.T)\n",
    "    \n",
    "    return mse, w_opt"
   ]
  },
  {
   "cell_type": "markdown",
   "metadata": {},
   "source": [
    "### Load the data\n",
    "Here we will reuse the dataset `height_weight_genders.csv` from previous exercise section to check the correctness of your implementation. Please compare it with your previous result."
   ]
  },
  {
   "cell_type": "code",
   "execution_count": 3,
   "metadata": {
    "collapsed": false
   },
   "outputs": [],
   "source": [
    "from helpers import *\n",
    "import sys\n",
    "sys.path.append('../..')\n",
    "import ml_lib.ml_lib as lib\n",
    "def test_your_least_squares():\n",
    "    height, weight, gender = load_data_from_ex02(sub_sample=False, add_outlier=False)\n",
    "    x, mean_x, std_x = standardize(height)\n",
    "    y, tx = build_model_data(x, weight)\n",
    "    # ***************************************************\n",
    "    # INSERT YOUR CODE HERE\n",
    "    # least square or grid search: TODO\n",
    "    # this code should compare the optimal weights obtained \n",
    "    # by least squares vs. grid search\n",
    "    # ***************************************************\n",
    "    mse_ls, w_opt_ls = least_squares(y,tx)\n",
    "   \n",
    "    max_iters = 50\n",
    "    gamma = 0.7\n",
    "    # Initialization\n",
    "    w_initial = np.array([0, 0])\n",
    "    \n",
    "    mse_gd, w_opt_gd = lib.gradient_descent(y, tx, w_initial, max_iters, gamma)\n",
    "    print(\"GD: \", w_opt_gd)\n",
    "    print(\"LS: \", w_opt_ls)"
   ]
  },
  {
   "cell_type": "markdown",
   "metadata": {},
   "source": [
    "Test it here"
   ]
  },
  {
   "cell_type": "code",
   "execution_count": 4,
   "metadata": {
    "collapsed": false
   },
   "outputs": [
    {
     "name": "stdout",
     "output_type": "stream",
     "text": [
      "Gradient Descent(0/49): loss=2792.236712759167, w0=51.305745401473644, w1=9.435798704492269\n",
      "Gradient Descent(1/49): loss=265.3024621089598, w0=66.69746902191571, w1=12.266538315840005\n",
      "Gradient Descent(2/49): loss=37.87837955044127, w0=71.31498610804834, w1=13.115760199244333\n",
      "Gradient Descent(3/49): loss=17.41021212017447, w0=72.70024123388814, w1=13.370526764265632\n",
      "Gradient Descent(4/49): loss=15.568077051450459, w0=73.11581777164007, w1=13.446956733772023\n",
      "Gradient Descent(5/49): loss=15.402284895265295, w0=73.24049073296565, w1=13.469885724623941\n",
      "Gradient Descent(6/49): loss=15.38736360120863, w0=73.27789262136334, w1=13.476764421879516\n",
      "Gradient Descent(7/49): loss=15.386020684743531, w0=73.28911318788263, w1=13.478828031056189\n",
      "Gradient Descent(8/49): loss=15.38589982226167, w0=73.29247935783842, w1=13.47944711380919\n",
      "Gradient Descent(9/49): loss=15.385888944638307, w0=73.29348920882515, w1=13.47963283863509\n",
      "Gradient Descent(10/49): loss=15.385887965652202, w0=73.29379216412117, w1=13.479688556082861\n",
      "Gradient Descent(11/49): loss=15.385887877543452, w0=73.29388305070998, w1=13.479705271317192\n",
      "Gradient Descent(12/49): loss=15.385887869613665, w0=73.29391031668663, w1=13.479710285887492\n",
      "Gradient Descent(13/49): loss=15.385887868899982, w0=73.29391849647962, w1=13.479711790258582\n",
      "Gradient Descent(14/49): loss=15.385887868835754, w0=73.29392095041752, w1=13.479712241569908\n",
      "Gradient Descent(15/49): loss=15.385887868829974, w0=73.29392168659889, w1=13.479712376963306\n",
      "Gradient Descent(16/49): loss=15.385887868829453, w0=73.2939219074533, w1=13.479712417581325\n",
      "Gradient Descent(17/49): loss=15.385887868829403, w0=73.29392197370962, w1=13.479712429766732\n",
      "Gradient Descent(18/49): loss=15.385887868829402, w0=73.29392199358652, w1=13.479712433422353\n",
      "Gradient Descent(19/49): loss=15.385887868829402, w0=73.2939219995496, w1=13.47971243451904\n",
      "Gradient Descent(20/49): loss=15.385887868829402, w0=73.29392200133852, w1=13.479712434848047\n",
      "Gradient Descent(21/49): loss=15.385887868829402, w0=73.29392200187519, w1=13.479712434946748\n",
      "Gradient Descent(22/49): loss=15.385887868829402, w0=73.29392200203618, w1=13.479712434976358\n",
      "Gradient Descent(23/49): loss=15.385887868829402, w0=73.29392200208449, w1=13.479712434985242\n",
      "Gradient Descent(24/49): loss=15.385887868829398, w0=73.29392200209898, w1=13.479712434987906\n",
      "Gradient Descent(25/49): loss=15.385887868829398, w0=73.29392200210333, w1=13.479712434988706\n",
      "Gradient Descent(26/49): loss=15.385887868829402, w0=73.29392200210464, w1=13.479712434988945\n",
      "Gradient Descent(27/49): loss=15.385887868829403, w0=73.29392200210502, w1=13.479712434989018\n",
      "Gradient Descent(28/49): loss=15.385887868829402, w0=73.29392200210513, w1=13.47971243498904\n",
      "Gradient Descent(29/49): loss=15.385887868829398, w0=73.29392200210518, w1=13.479712434989047\n",
      "Gradient Descent(30/49): loss=15.385887868829402, w0=73.29392200210519, w1=13.479712434989048\n",
      "Gradient Descent(31/49): loss=15.385887868829402, w0=73.29392200210519, w1=13.479712434989048\n",
      "Gradient Descent(32/49): loss=15.385887868829402, w0=73.29392200210519, w1=13.479712434989048\n",
      "Gradient Descent(33/49): loss=15.385887868829402, w0=73.29392200210519, w1=13.479712434989048\n",
      "Gradient Descent(34/49): loss=15.385887868829402, w0=73.29392200210519, w1=13.479712434989048\n",
      "Gradient Descent(35/49): loss=15.385887868829402, w0=73.29392200210519, w1=13.479712434989048\n",
      "Gradient Descent(36/49): loss=15.385887868829402, w0=73.29392200210519, w1=13.479712434989048\n",
      "Gradient Descent(37/49): loss=15.385887868829402, w0=73.29392200210519, w1=13.479712434989048\n",
      "Gradient Descent(38/49): loss=15.385887868829402, w0=73.29392200210519, w1=13.479712434989048\n",
      "Gradient Descent(39/49): loss=15.385887868829402, w0=73.29392200210519, w1=13.479712434989048\n",
      "Gradient Descent(40/49): loss=15.385887868829402, w0=73.29392200210519, w1=13.479712434989048\n",
      "Gradient Descent(41/49): loss=15.385887868829402, w0=73.29392200210519, w1=13.479712434989048\n",
      "Gradient Descent(42/49): loss=15.385887868829402, w0=73.29392200210519, w1=13.479712434989048\n",
      "Gradient Descent(43/49): loss=15.385887868829402, w0=73.29392200210519, w1=13.479712434989048\n",
      "Gradient Descent(44/49): loss=15.385887868829402, w0=73.29392200210519, w1=13.479712434989048\n",
      "Gradient Descent(45/49): loss=15.385887868829402, w0=73.29392200210519, w1=13.479712434989048\n",
      "Gradient Descent(46/49): loss=15.385887868829402, w0=73.29392200210519, w1=13.479712434989048\n",
      "Gradient Descent(47/49): loss=15.385887868829402, w0=73.29392200210519, w1=13.479712434989048\n",
      "Gradient Descent(48/49): loss=15.385887868829402, w0=73.29392200210519, w1=13.479712434989048\n",
      "Gradient Descent(49/49): loss=15.385887868829402, w0=73.29392200210519, w1=13.479712434989048\n",
      "GD:  [array([0, 0]), array([ 51.3057454,   9.4357987]), array([ 66.69746902,  12.26653832]), array([ 71.31498611,  13.1157602 ]), array([ 72.70024123,  13.37052676]), array([ 73.11581777,  13.44695673]), array([ 73.24049073,  13.46988572]), array([ 73.27789262,  13.47676442]), array([ 73.28911319,  13.47882803]), array([ 73.29247936,  13.47944711]), array([ 73.29348921,  13.47963284]), array([ 73.29379216,  13.47968856]), array([ 73.29388305,  13.47970527]), array([ 73.29391032,  13.47971029]), array([ 73.2939185 ,  13.47971179]), array([ 73.29392095,  13.47971224]), array([ 73.29392169,  13.47971238]), array([ 73.29392191,  13.47971242]), array([ 73.29392197,  13.47971243]), array([ 73.29392199,  13.47971243]), array([ 73.293922  ,  13.47971243]), array([ 73.293922  ,  13.47971243]), array([ 73.293922  ,  13.47971243]), array([ 73.293922  ,  13.47971243]), array([ 73.293922  ,  13.47971243]), array([ 73.293922  ,  13.47971243]), array([ 73.293922  ,  13.47971243]), array([ 73.293922  ,  13.47971243]), array([ 73.293922  ,  13.47971243]), array([ 73.293922  ,  13.47971243]), array([ 73.293922  ,  13.47971243]), array([ 73.293922  ,  13.47971243]), array([ 73.293922  ,  13.47971243]), array([ 73.293922  ,  13.47971243]), array([ 73.293922  ,  13.47971243]), array([ 73.293922  ,  13.47971243]), array([ 73.293922  ,  13.47971243]), array([ 73.293922  ,  13.47971243]), array([ 73.293922  ,  13.47971243]), array([ 73.293922  ,  13.47971243]), array([ 73.293922  ,  13.47971243]), array([ 73.293922  ,  13.47971243]), array([ 73.293922  ,  13.47971243]), array([ 73.293922  ,  13.47971243]), array([ 73.293922  ,  13.47971243]), array([ 73.293922  ,  13.47971243]), array([ 73.293922  ,  13.47971243]), array([ 73.293922  ,  13.47971243]), array([ 73.293922  ,  13.47971243]), array([ 73.293922  ,  13.47971243]), array([ 73.293922  ,  13.47971243])]\n",
      "LS:  [ 73.293922    13.47971243]\n"
     ]
    }
   ],
   "source": [
    "test_your_least_squares()"
   ]
  },
  {
   "cell_type": "markdown",
   "metadata": {},
   "source": [
    "## 1.2 Least squares with a linear basis function model\n",
    "Start from this section, we will use the dataset `dataEx3.csv`.\n",
    "\n",
    "### Implement polynomial basis functions"
   ]
  },
  {
   "cell_type": "code",
   "execution_count": 5,
   "metadata": {
    "collapsed": false,
    "scrolled": true
   },
   "outputs": [
    {
     "name": "stdout",
     "output_type": "stream",
     "text": [
      "shape of x (50,)\n",
      "shape of y (50,)\n"
     ]
    }
   ],
   "source": [
    "# load dataset\n",
    "x, y = load_data()\n",
    "print(\"shape of x {}\".format(x.shape))\n",
    "print(\"shape of y {}\".format(y.shape))"
   ]
  },
  {
   "cell_type": "code",
   "execution_count": 6,
   "metadata": {
    "collapsed": false
   },
   "outputs": [],
   "source": [
    "def build_poly(x, degree):\n",
    "    \"\"\"polynomial basis functions for input data x, for j=0 up to j=degree.\"\"\"\n",
    "    # ***************************************************\n",
    "    # INSERT YOUR CODE HERE\n",
    "    # polynomial basis function: TODO\n",
    "    # this function should return the matrix formed\n",
    "    # by applying the polynomial basis to the input data\n",
    "    # ***************************************************\n",
    "    phi = np.zeros((x.shape[0], degree+1))\n",
    "    for i in range(0,x.shape[0]):\n",
    "        for j in range(0,degree+1):\n",
    "            phi[i,j] = x[i]**j\n",
    "    return phi\n"
   ]
  },
  {
   "cell_type": "markdown",
   "metadata": {},
   "source": [
    "Let us play with polynomial regression. Note that we will use your implemented function `compute_mse`. Please copy and paste your implementation from exercise02."
   ]
  },
  {
   "cell_type": "code",
   "execution_count": 7,
   "metadata": {
    "collapsed": false
   },
   "outputs": [],
   "source": [
    "from plots import *\n",
    "\n",
    "def polynomial_regression():\n",
    "    \"\"\"Constructing the polynomial basis function expansion of the data,\n",
    "       and then running least squares regression.\"\"\"\n",
    "    # define parameters\n",
    "    degrees = [1, 3, 7, 12]\n",
    "    \n",
    "    # define the structure of the figure\n",
    "    num_row = 2\n",
    "    num_col = 2\n",
    "    f, axs = plt.subplots(num_row, num_col)\n",
    "\n",
    "    for ind, degree in enumerate(degrees):\n",
    "        # ***************************************************\n",
    "        # INSERT YOUR CODE HERE\n",
    "        # form the data to do polynomial regression.: TODO\n",
    "        # ***************************************************\n",
    "        phi = build_poly(x, degree)\n",
    "        # ***************************************************\n",
    "        # INSERT YOUR CODE HERE\n",
    "        # least square and calculate RMSE: TODO\n",
    "        # ***************************************************\n",
    "        mse_ls, weights = least_squares(y,phi)\n",
    "        rmse = np.sqrt(2*mse_ls)\n",
    "\n",
    "        print(\"Processing {i}th experiment, degree={d}, rmse={loss}\".format(\n",
    "              i=ind + 1, d=degree, loss=rmse))\n",
    "        # plot fit\n",
    "        plot_fitted_curve(\n",
    "            y, x, weights, degree, axs[ind // num_col][ind % num_col])\n",
    "    plt.tight_layout()\n",
    "    plt.savefig(\"visualize_polynomial_regression\")\n",
    "    plt.show()"
   ]
  },
  {
   "cell_type": "markdown",
   "metadata": {},
   "source": [
    "Run polynomial regression"
   ]
  },
  {
   "cell_type": "code",
   "execution_count": 8,
   "metadata": {
    "collapsed": false
   },
   "outputs": [
    {
     "name": "stdout",
     "output_type": "stream",
     "text": [
      "Processing 1th experiment, degree=1, rmse=0.47187607963421874\n",
      "Processing 2th experiment, degree=3, rmse=0.2585827766773749\n",
      "Processing 3th experiment, degree=7, rmse=0.2496587036090856\n",
      "Processing 4th experiment, degree=12, rmse=1.4371532823068758\n"
     ]
    },
    {
     "data": {
      "image/png": "[encoded data removed]",
      "text/plain": [
       "<matplotlib.figure.Figure at 0x7527780>"
      ]
     },
     "metadata": {},
     "output_type": "display_data"
    }
   ],
   "source": [
    "polynomial_regression()"
   ]
  },
  {
   "cell_type": "markdown",
   "metadata": {},
   "source": [
    "# 2 Evaluating model predication performance\n",
    "\n",
    "\n",
    "Let us show the train and test splits for various polynomial degrees. First of all, please fill in the function `split_data()`"
   ]
  },
  {
   "cell_type": "code",
   "execution_count": 9,
   "metadata": {
    "collapsed": false
   },
   "outputs": [
    {
     "data": {
      "text/plain": [
       "(array([ 1.86662437,  5.02131076,  1.61424946,  5.77843549,  4.01181111,\n",
       "         0.73093728,  2.24518674,  3.7594362 ,  5.14749821,  0.47856237,\n",
       "         3.38087384,  4.26418602,  3.88562366,  2.87612401,  0.85712473,\n",
       "         3.12849893,  2.74993656,  4.13799857,  3.50706129,  1.10949964,\n",
       "         3.00231147,  5.65224803,  6.28318531,  0.35237491,  6.15699785,\n",
       "         0.60474982,  1.99281183,  3.25468638,  4.64274839,  2.37137419,\n",
       "         6.0308104 ,  5.39987312,  3.63324875,  0.22618746,  4.39037348,\n",
       "         0.1       ,  4.8951233 ,  4.76893584,  5.52606058,  1.74043692]),\n",
       " array([  1.28930361e+00,  -1.30763072e+00,   8.33364051e-01,\n",
       "         -5.68519390e-01,  -5.59911457e-01,   5.38669461e-01,\n",
       "          7.00138842e-01,  -1.06662741e+00,  -1.04670162e+00,\n",
       "          7.22554859e-01,  -2.06807030e-01,  -1.29168955e+00,\n",
       "         -4.84226326e-01,  -3.72595292e-01,   4.25144932e-01,\n",
       "          7.69121860e-02,   1.21879684e-01,  -8.35127298e-01,\n",
       "         -2.68157012e-01,   6.05998553e-01,  -1.50508406e-01,\n",
       "         -1.05814170e+00,   2.22695473e-01,   8.95549970e-02,\n",
       "         -1.41108000e-04,   4.37144573e-01,   7.27781486e-01,\n",
       "          3.05224230e-02,  -7.46011639e-01,   1.94693837e-01,\n",
       "         -3.08575746e-01,  -4.37345163e-01,  -3.01041920e-01,\n",
       "          2.52524512e-01,  -1.33397556e+00,   3.59152612e-01,\n",
       "         -1.28027608e+00,  -5.72305352e-01,  -8.26518932e-01,\n",
       "          7.39727694e-01]),\n",
       " array([ 4.51656093,  5.27368567,  2.11899928,  2.49756165,  1.2356871 ,\n",
       "         1.36187455,  5.90462294,  1.48806201,  0.98331219,  2.6237491 ]),\n",
       " array([-0.73722292, -0.95634865,  0.77707185,  0.03761024,  0.99490902,\n",
       "         0.38864745, -0.76646743,  0.77328884,  0.95121182,  0.66750938]))"
      ]
     },
     "execution_count": 9,
     "metadata": {},
     "output_type": "execute_result"
    }
   ],
   "source": [
    "def split_data(x, y, ratio, seed=1):\n",
    "    \"\"\"\n",
    "    split the dataset based on the split ratio. If ratio is 0.8 \n",
    "    you will have 80% of your data set dedicated to training \n",
    "    and the rest dedicated to testing\n",
    "    \"\"\"\n",
    "    # set seed\n",
    "    np.random.seed(seed)\n",
    "    # ***************************************************\n",
    "    # INSERT YOUR CODE HERE\n",
    "    # split the data based on the given ratio: TODO\n",
    "    # ***************************************************\n",
    "    temp = np.random.rand(x.shape[0])\n",
    "    ind = np.argsort(temp)\n",
    "    \n",
    "    lim = int(np.floor(ratio*x.shape[0]))\n",
    "    x_train = np.zeros(lim)\n",
    "    y_train = np.zeros(lim)\n",
    "    x_test = np.zeros(x.shape[0]-lim)\n",
    "    y_test = np.zeros(x.shape[0]-lim)\n",
    "\n",
    "    for i in range(0,lim):\n",
    "        x_train[i] = x[ind[i]]\n",
    "        y_train[i] = y[ind[i]]\n",
    "        \n",
    "    for j in range(lim,x.shape[0]):\n",
    "        x_test[j-lim] = x[ind[j]]\n",
    "        y_test[j-lim] = y[ind[j]]   \n",
    "        \n",
    "    return x_train, y_train, x_test, y_test\n",
    "split_data(x,y,0.8,1)"
   ]
  },
  {
   "cell_type": "markdown",
   "metadata": {},
   "source": [
    "Then, test your `split_data` function below."
   ]
  },
  {
   "cell_type": "code",
   "execution_count": 10,
   "metadata": {
    "collapsed": true
   },
   "outputs": [],
   "source": [
    "def train_test_split_demo(x, y, degree, ratio, seed):\n",
    "    \"\"\"polynomial regression with different split ratios and different degrees.\"\"\"\n",
    "    # ***************************************************\n",
    "    # INSERT YOUR CODE HERE\n",
    "    # split the data, and return train and test data: TODO\n",
    "    # ***************************************************\n",
    "    x_train, y_train, x_test, y_test = split_data(x, y, ratio, seed)\n",
    "    # ***************************************************\n",
    "    # INSERT YOUR CODE HERE\n",
    "    # form train and test data with polynomial basis function: TODO\n",
    "    # ***************************************************\n",
    "    phi_train = build_poly(x_train, degree)\n",
    "    phi_test = build_poly(x_test, degree)\n",
    "    # ***************************************************\n",
    "    # INSERT YOUR CODE HERE\n",
    "    # calcualte weight through least square.: TODO\n",
    "    # ***************************************************\n",
    "    mse_train, weights = least_squares(y_train,phi_train)\n",
    "    rmse_tr = np.sqrt(2*mse_train)\n",
    "    # ***************************************************\n",
    "    # INSERT YOUR CODE HERE\n",
    "    # calculate RMSE for train and test data,\n",
    "    # and store them in rmse_tr and rmse_te respectively: TODO\n",
    "    # ***************************************************\n",
    "    rmse_te = np.sqrt(2*lib.compute_loss(y_test, phi_test, weights))\n",
    "    print(\"proportion={p}, degree={d}, Training RMSE={tr:.3f}, Testing RMSE={te:.3f}\".format(\n",
    "          p=ratio, d=degree, tr=rmse_tr, te=rmse_te))\n"
   ]
  },
  {
   "cell_type": "code",
   "execution_count": 11,
   "metadata": {
    "collapsed": false
   },
   "outputs": [
    {
     "name": "stdout",
     "output_type": "stream",
     "text": [
      "proportion=0.9, degree=1, Training RMSE=0.478, Testing RMSE=0.424\n",
      "proportion=0.9, degree=3, Training RMSE=0.263, Testing RMSE=0.226\n",
      "proportion=0.9, degree=7, Training RMSE=0.249, Testing RMSE=0.286\n",
      "proportion=0.9, degree=12, Training RMSE=1.189, Testing RMSE=1.535\n",
      "proportion=0.5, degree=1, Training RMSE=0.450, Testing RMSE=0.512\n",
      "proportion=0.5, degree=3, Training RMSE=0.219, Testing RMSE=0.344\n",
      "proportion=0.5, degree=7, Training RMSE=0.205, Testing RMSE=0.587\n",
      "proportion=0.5, degree=12, Training RMSE=0.257, Testing RMSE=1.863\n",
      "proportion=0.1, degree=1, Training RMSE=0.101, Testing RMSE=0.698\n",
      "proportion=0.1, degree=3, Training RMSE=0.057, Testing RMSE=31.909\n",
      "proportion=0.1, degree=7, Training RMSE=0.148, Testing RMSE=165.817\n",
      "proportion=0.1, degree=12, Training RMSE=3.054, Testing RMSE=1022.443\n"
     ]
    }
   ],
   "source": [
    "seed = 6\n",
    "degrees = [1, 3, 7, 12]\n",
    "split_ratios = [0.9, 0.5, 0.1]\n",
    "\n",
    "for split_ratio in split_ratios:\n",
    "    for degree in degrees:\n",
    "        train_test_split_demo(x, y, degree, split_ratio, seed)"
   ]
  },
  {
   "cell_type": "markdown",
   "metadata": {},
   "source": [
    "# 3 Ridge Regression\n",
    "Please fill in the function below."
   ]
  },
  {
   "cell_type": "code",
   "execution_count": 12,
   "metadata": {
    "collapsed": false
   },
   "outputs": [],
   "source": [
    "def ridge_regression(y, tx, lambda_):\n",
    "    \"\"\"implement ridge regression.\"\"\"\n",
    "    # ***************************************************\n",
    "    # INSERT YOUR CODE HERE\n",
    "    # ridge regression: TODO\n",
    "    # ***************************************************\n",
    "\n",
    "    L = np.eye(tx.shape[1])*lambda_\n",
    "    weights= np.linalg.inv(tx.T.dot(tx) + L.T.dot(L)).dot(tx.T).dot(y)\n",
    "    loss = lib.compute_loss(y,tx,weights)\n",
    "    \n",
    "    return weights, loss"
   ]
  },
  {
   "cell_type": "code",
   "execution_count": 13,
   "metadata": {
    "collapsed": true
   },
   "outputs": [],
   "source": [
    "def ridge_regression_demo(x, y, degree, ratio, seed):\n",
    "    \"\"\"ridge regression demo.\"\"\"\n",
    "    # define parameter\n",
    "    lambdas = np.logspace(-5, 0, 15)\n",
    "    # ***************************************************\n",
    "    # INSERT YOUR CODE HERE\n",
    "    # split the data, and return train and test data: TODO\n",
    "    # ***************************************************\n",
    "    x_train, y_train, x_test, y_test = split_data(x, y, ratio, seed)\n",
    "    # ***************************************************\n",
    "    # INSERT YOUR CODE HERE\n",
    "    # form train and test data with polynomial basis function: TODO\n",
    "    # ***************************************************\n",
    "    phi_train = build_poly(x_train, degree)\n",
    "    phi_test = build_poly(x_test, degree)\n",
    "    \n",
    "    rmse_tr = []\n",
    "    rmse_te = []\n",
    "    for ind, lambda_ in enumerate(lambdas):\n",
    "        # ***************************************************\n",
    "        # INSERT YOUR CODE HERE\n",
    "        # ridge regression with a given lambda\n",
    "        # ***************************************************\n",
    "        weights, mse_tr = ridge_regression(y_train, phi_train, lambda_)\n",
    "        rmse_tr.append(np.sqrt(2*mse_tr))\n",
    "        mse_te = lib.compute_loss(y_test,phi_test,weights)\n",
    "        rmse_te.append(np.sqrt(2*mse_te))\n",
    "        \n",
    "        print(\"proportion={p}, degree={d}, lambda={l:.3f}, Training RMSE={tr:.3f}, Testing RMSE={te:.3f}\".format(\n",
    "               p=ratio, d=degree, l=lambda_, tr=rmse_tr[ind], te=rmse_te[ind]))\n",
    "        \n",
    "    # Plot the obtained results\n",
    "    plot_train_test(rmse_tr, rmse_te, lambdas, degree)"
   ]
  },
  {
   "cell_type": "code",
   "execution_count": 14,
   "metadata": {
    "collapsed": false
   },
   "outputs": [
    {
     "name": "stdout",
     "output_type": "stream",
     "text": [
      "proportion=0.5, degree=7, lambda=0.000, Training RMSE=0.243, Testing RMSE=0.296\n",
      "proportion=0.5, degree=7, lambda=0.000, Training RMSE=0.243, Testing RMSE=0.296\n",
      "proportion=0.5, degree=7, lambda=0.000, Training RMSE=0.243, Testing RMSE=0.296\n",
      "proportion=0.5, degree=7, lambda=0.000, Training RMSE=0.243, Testing RMSE=0.296\n",
      "proportion=0.5, degree=7, lambda=0.000, Training RMSE=0.243, Testing RMSE=0.296\n",
      "proportion=0.5, degree=7, lambda=0.001, Training RMSE=0.243, Testing RMSE=0.296\n",
      "proportion=0.5, degree=7, lambda=0.001, Training RMSE=0.243, Testing RMSE=0.295\n",
      "proportion=0.5, degree=7, lambda=0.003, Training RMSE=0.243, Testing RMSE=0.295\n",
      "proportion=0.5, degree=7, lambda=0.007, Training RMSE=0.243, Testing RMSE=0.293\n",
      "proportion=0.5, degree=7, lambda=0.016, Training RMSE=0.243, Testing RMSE=0.283\n",
      "proportion=0.5, degree=7, lambda=0.037, Training RMSE=0.247, Testing RMSE=0.265\n",
      "proportion=0.5, degree=7, lambda=0.085, Training RMSE=0.252, Testing RMSE=0.256\n",
      "proportion=0.5, degree=7, lambda=0.193, Training RMSE=0.255, Testing RMSE=0.254\n",
      "proportion=0.5, degree=7, lambda=0.439, Training RMSE=0.256, Testing RMSE=0.256\n",
      "proportion=0.5, degree=7, lambda=1.000, Training RMSE=0.258, Testing RMSE=0.266\n"
     ]
    },
    {
     "data": {
      "image/png": "[encoded data removed]",
      "text/plain": [
       "<matplotlib.figure.Figure at 0x770c160>"
      ]
     },
     "metadata": {},
     "output_type": "display_data"
    }
   ],
   "source": [
    "seed = 9 #9\n",
    "degree = 7\n",
    "split_ratio = 0.5\n",
    "ridge_regression_demo(x, y, degree, split_ratio, seed)"
   ]
  },
  {
   "cell_type": "code",
   "execution_count": null,
   "metadata": {
    "collapsed": true
   },
   "outputs": [],
   "source": []
  },
  {
   "cell_type": "code",
   "execution_count": null,
   "metadata": {
    "collapsed": true
   },
   "outputs": [],
   "source": []
  }
 ],
 "metadata": {
  "anaconda-cloud": {},
  "kernelspec": {
   "display_name": "Python [Root]",
   "language": "python",
   "name": "Python [Root]"
  },
  "language_info": {
   "codemirror_mode": {
    "name": "ipython",
    "version": 3
   },
   "file_extension": ".py",
   "mimetype": "text/x-python",
   "name": "python",
   "nbconvert_exporter": "python",
   "pygments_lexer": "ipython3",
   "version": "3.5.2"
  }
 },
 "nbformat": 4,
 "nbformat_minor": 1
}
