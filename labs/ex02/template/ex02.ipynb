{
 "cells": [
  {
   "cell_type": "code",
   "execution_count": 40,
   "metadata": {
    "collapsed": false
   },
   "outputs": [
    {
     "name": "stdout",
     "output_type": "stream",
     "text": [
      "The autoreload extension is already loaded. To reload it, use:\n",
      "  %reload_ext autoreload\n"
     ]
    }
   ],
   "source": [
    "# Useful starting lines\n",
    "%matplotlib inline\n",
    "import numpy as np\n",
    "import matplotlib.pyplot as plt\n",
    "%load_ext autoreload\n",
    "%autoreload 2"
   ]
  },
  {
   "cell_type": "markdown",
   "metadata": {},
   "source": [
    "# Load the data"
   ]
  },
  {
   "cell_type": "code",
   "execution_count": 54,
   "metadata": {
    "collapsed": true
   },
   "outputs": [],
   "source": [
    "import datetime\n",
    "from helpers import *\n",
    "\n",
    "#height, weight, gender = load_data(sub_sample=False, add_outlier=False)\n",
    "#height, weight, gender = load_data(sub_sample=True, add_outlier=False)\n",
    "height, weight, gender = load_data(sub_sample=True, add_outlier=True)\n",
    "x, mean_x, std_x = standardize(height)\n",
    "y, tx = build_model_data(x, weight)"
   ]
  },
  {
   "cell_type": "code",
   "execution_count": 55,
   "metadata": {
    "collapsed": false
   },
   "outputs": [
    {
     "data": {
      "text/plain": [
       "((202,), (202, 2))"
      ]
     },
     "execution_count": 55,
     "metadata": {},
     "output_type": "execute_result"
    }
   ],
   "source": [
    "y.shape, tx.shape"
   ]
  },
  {
   "cell_type": "markdown",
   "metadata": {},
   "source": [
    "# 1 Computing the Cost Function"
   ]
  },
  {
   "cell_type": "markdown",
   "metadata": {},
   "source": [
    "Fill in the `compute_loss` function below:\n",
    "<a id='compute_loss'></a>\n"
   ]
  },
  {
   "cell_type": "code",
   "execution_count": 56,
   "metadata": {
    "collapsed": false
   },
   "outputs": [
    {
     "name": "stdout",
     "output_type": "stream",
     "text": [
      "2776.19751895\n"
     ]
    }
   ],
   "source": [
    "def compute_loss(y, tx, w):\n",
    "    \"\"\"Calculate the loss.\n",
    "\n",
    "    You can calculate the loss using mse or mae.\n",
    "    \"\"\"\n",
    "    # ***************************************************\n",
    "    # INSERT YOUR CODE HERE\n",
    "    # TODO: compute loss by MSE\n",
    "    # ***************************************************\n",
    "    e = y - tx.dot(w)\n",
    "    L = 1/(2*np.shape(tx)[0]) * e.dot(e.T)\n",
    "    return L\n",
    "\n",
    "w = np.array([1,2]).T\n",
    "L = compute_loss(y, tx, w)\n",
    "print(L)"
   ]
  },
  {
   "cell_type": "markdown",
   "metadata": {},
   "source": [
    "# 2 Grid Search\n",
    "\n",
    "Fill in the function `grid_search()` below:"
   ]
  },
  {
   "cell_type": "code",
   "execution_count": 57,
   "metadata": {
    "collapsed": true
   },
   "outputs": [],
   "source": [
    "def grid_search(y, tx, w0, w1):\n",
    "    \"\"\"Algorithm for grid search.\"\"\"\n",
    "    losses = np.zeros((len(w0), len(w1)))\n",
    "    # ***************************************************\n",
    "    # INSERT YOUR CODE HERE\n",
    "    # TODO: compute loss for each combination of w0 and w1.\n",
    "    # ***************************************************\n",
    "    for i in range (0, len(w0)):\n",
    "        for j in range(0, len(w1)):\n",
    "            losses[i,j] = compute_loss(y, tx, np.array([w0[i], w1[j]]).T)\n",
    "    return losses"
   ]
  },
  {
   "cell_type": "markdown",
   "metadata": {},
   "source": [
    "Let us play with the grid search demo now!"
   ]
  },
  {
   "cell_type": "code",
   "execution_count": 58,
   "metadata": {
    "collapsed": false
   },
   "outputs": [
    {
     "name": "stdout",
     "output_type": "stream",
     "text": [
      "Grid Search: loss*=71.1270196108493, w0*=71.42857142857142, w1*=9.183673469387742, execution time=0.036 seconds\n"
     ]
    },
    {
     "data": {
      "image/png": "[encoded data removed]",
      "text/plain": [
       "<matplotlib.figure.Figure at 0x6078710>"
      ]
     },
     "metadata": {},
     "output_type": "display_data"
    }
   ],
   "source": [
    "from grid_search import generate_w, get_best_parameters\n",
    "from plots import grid_visualization\n",
    "\n",
    "# Generate the grid of parameters to be swept\n",
    "grid_w0, grid_w1 = generate_w(num_intervals=50)\n",
    "\n",
    "# Start the grid search\n",
    "start_time = datetime.datetime.now()\n",
    "grid_losses = grid_search(y, tx, grid_w0, grid_w1)\n",
    "\n",
    "# Select the best combinaison\n",
    "loss_star, w0_star, w1_star = get_best_parameters(grid_w0, grid_w1, grid_losses)\n",
    "end_time = datetime.datetime.now()\n",
    "execution_time = (end_time - start_time).total_seconds()\n",
    "\n",
    "# Print the results\n",
    "print(\"Grid Search: loss*={l}, w0*={w0}, w1*={w1}, execution time={t:.3f} seconds\".format(\n",
    "      l=loss_star, w0=w0_star, w1=w1_star, t=execution_time))\n",
    "\n",
    "# Plot the results\n",
    "fig = grid_visualization(grid_losses, grid_w0, grid_w1, mean_x, std_x, height, weight)\n",
    "fig.set_size_inches(10.0,6.0)\n",
    "fig.savefig(\"grid_plot\")  # Optional saving"
   ]
  },
  {
   "cell_type": "markdown",
   "metadata": {},
   "source": [
    "# 3 Gradient Descent"
   ]
  },
  {
   "cell_type": "markdown",
   "metadata": {},
   "source": [
    "Again, please fill in the functions `compute_gradient` below:"
   ]
  },
  {
   "cell_type": "code",
   "execution_count": 59,
   "metadata": {
    "collapsed": true
   },
   "outputs": [],
   "source": [
    "def compute_gradient(y, tx, w):\n",
    "    \"\"\"Compute the gradient.\"\"\"\n",
    "    # ***************************************************\n",
    "    # INSERT YOUR CODE HERE\n",
    "    # TODO: compute gradient and loss\n",
    "    # ***************************************************\n",
    "    e = y - tx.dot(w)\n",
    "    gradient = -1/(np.shape(tx)[0]) * tx.T.dot(e)\n",
    "    return gradient    "
   ]
  },
  {
   "cell_type": "markdown",
   "metadata": {},
   "source": [
    "Please fill in the functions `gradient_descent` below:"
   ]
  },
  {
   "cell_type": "code",
   "execution_count": 60,
   "metadata": {
    "collapsed": true
   },
   "outputs": [],
   "source": [
    "def gradient_descent(y, tx, initial_w, max_iters, gamma):\n",
    "    \"\"\"Gradient descent algorithm.\"\"\"\n",
    "    # Define parameters to store w and loss\n",
    "    ws = [initial_w]\n",
    "    losses = []\n",
    "    w = initial_w\n",
    "    for n_iter in range(max_iters):\n",
    "        # ***************************************************\n",
    "        # INSERT YOUR CODE HERE\n",
    "        # TODO: compute gradient and loss\n",
    "        # ***************************************************\n",
    "        gradient = compute_gradient(y,tx,w)\n",
    "        loss = compute_loss(y,tx,w)\n",
    "        # ***************************************************\n",
    "        # INSERT YOUR CODE HERE\n",
    "        # TODO: update w by gradient\n",
    "        # ***************************************************\n",
    "        w = w - gamma * gradient\n",
    "        # store w and loss\n",
    "        ws.append(w)\n",
    "        losses.append(loss)\n",
    "        print(\"Gradient Descent({bi}/{ti}): loss={l}, w0={w0}, w1={w1}\".format(\n",
    "              bi=n_iter, ti=max_iters - 1, l=loss, w0=w[0], w1=w[1]))\n",
    "\n",
    "    return losses, ws"
   ]
  },
  {
   "cell_type": "markdown",
   "metadata": {},
   "source": [
    "Test your gradient descent function through gradient descent demo shown below:"
   ]
  },
  {
   "cell_type": "code",
   "execution_count": 61,
   "metadata": {
    "collapsed": false
   },
   "outputs": [
    {
     "name": "stdout",
     "output_type": "stream",
     "text": [
      "Gradient Descent(0/49): loss=2869.8351145358524, w0=51.84746409844842, w1=7.7244264061924195\n",
      "Gradient Descent(1/49): loss=318.2821247015965, w0=67.40170332798297, w1=10.041754328050114\n",
      "Gradient Descent(2/49): loss=88.6423556165128, w0=72.06797509684336, w1=10.736952704607411\n",
      "Gradient Descent(3/49): loss=67.9747763988552, w0=73.46785662750146, w1=10.945512217574597\n",
      "Gradient Descent(4/49): loss=66.11469426926602, w0=73.88782108669889, w1=11.00808007146475\n",
      "Gradient Descent(5/49): loss=65.94728687760302, w0=74.01381042445813, w1=11.026850427631798\n",
      "Gradient Descent(6/49): loss=65.93222021235334, w0=74.0516072257859, w1=11.032481534481914\n",
      "Gradient Descent(7/49): loss=65.93086421248087, w0=74.06294626618423, w1=11.034170866536945\n",
      "Gradient Descent(8/49): loss=65.93074217249234, w0=74.06634797830372, w1=11.034677666153454\n",
      "Gradient Descent(9/49): loss=65.93073118889338, w0=74.06736849193958, w1=11.034829706038408\n",
      "Gradient Descent(10/49): loss=65.93073020036947, w0=74.06767464603033, w1=11.034875318003895\n",
      "Gradient Descent(11/49): loss=65.93073011140231, w0=74.06776649225755, w1=11.034889001593541\n",
      "Gradient Descent(12/49): loss=65.93073010339529, w0=74.06779404612573, w1=11.034893106670431\n",
      "Gradient Descent(13/49): loss=65.93073010267466, w0=74.06780231228618, w1=11.034894338193501\n",
      "Gradient Descent(14/49): loss=65.93073010260979, w0=74.06780479213431, w1=11.034894707650421\n",
      "Gradient Descent(15/49): loss=65.93073010260395, w0=74.06780553608874, w1=11.034894818487496\n",
      "Gradient Descent(16/49): loss=65.93073010260342, w0=74.06780575927507, w1=11.03489485173862\n",
      "Gradient Descent(17/49): loss=65.93073010260338, w0=74.06780582623098, w1=11.034894861713957\n",
      "Gradient Descent(18/49): loss=65.93073010260338, w0=74.06780584631775, w1=11.034894864706557\n",
      "Gradient Descent(19/49): loss=65.93073010260338, w0=74.06780585234378, w1=11.034894865604338\n",
      "Gradient Descent(20/49): loss=65.93073010260338, w0=74.06780585415159, w1=11.034894865873675\n",
      "Gradient Descent(21/49): loss=65.93073010260338, w0=74.06780585469393, w1=11.034894865954474\n",
      "Gradient Descent(22/49): loss=65.93073010260338, w0=74.06780585485663, w1=11.034894865978712\n",
      "Gradient Descent(23/49): loss=65.93073010260338, w0=74.06780585490544, w1=11.034894865985985\n",
      "Gradient Descent(24/49): loss=65.93073010260338, w0=74.0678058549201, w1=11.034894865988166\n",
      "Gradient Descent(25/49): loss=65.93073010260338, w0=74.06780585492449, w1=11.034894865988822\n",
      "Gradient Descent(26/49): loss=65.93073010260338, w0=74.06780585492581, w1=11.034894865989015\n",
      "Gradient Descent(27/49): loss=65.93073010260338, w0=74.06780585492619, w1=11.034894865989076\n",
      "Gradient Descent(28/49): loss=65.93073010260338, w0=74.06780585492632, w1=11.034894865989099\n",
      "Gradient Descent(29/49): loss=65.93073010260339, w0=74.06780585492635, w1=11.0348948659891\n",
      "Gradient Descent(30/49): loss=65.93073010260338, w0=74.06780585492636, w1=11.0348948659891\n",
      "Gradient Descent(31/49): loss=65.93073010260339, w0=74.06780585492636, w1=11.0348948659891\n",
      "Gradient Descent(32/49): loss=65.93073010260339, w0=74.06780585492636, w1=11.0348948659891\n",
      "Gradient Descent(33/49): loss=65.93073010260339, w0=74.06780585492636, w1=11.0348948659891\n",
      "Gradient Descent(34/49): loss=65.93073010260339, w0=74.06780585492636, w1=11.0348948659891\n",
      "Gradient Descent(35/49): loss=65.93073010260339, w0=74.06780585492636, w1=11.0348948659891\n",
      "Gradient Descent(36/49): loss=65.93073010260339, w0=74.06780585492636, w1=11.0348948659891\n",
      "Gradient Descent(37/49): loss=65.93073010260339, w0=74.06780585492636, w1=11.0348948659891\n",
      "Gradient Descent(38/49): loss=65.93073010260339, w0=74.06780585492636, w1=11.0348948659891\n",
      "Gradient Descent(39/49): loss=65.93073010260339, w0=74.06780585492636, w1=11.0348948659891\n",
      "Gradient Descent(40/49): loss=65.93073010260339, w0=74.06780585492636, w1=11.0348948659891\n",
      "Gradient Descent(41/49): loss=65.93073010260339, w0=74.06780585492636, w1=11.0348948659891\n",
      "Gradient Descent(42/49): loss=65.93073010260339, w0=74.06780585492636, w1=11.0348948659891\n",
      "Gradient Descent(43/49): loss=65.93073010260339, w0=74.06780585492636, w1=11.0348948659891\n",
      "Gradient Descent(44/49): loss=65.93073010260339, w0=74.06780585492636, w1=11.0348948659891\n",
      "Gradient Descent(45/49): loss=65.93073010260339, w0=74.06780585492636, w1=11.0348948659891\n",
      "Gradient Descent(46/49): loss=65.93073010260339, w0=74.06780585492636, w1=11.0348948659891\n",
      "Gradient Descent(47/49): loss=65.93073010260339, w0=74.06780585492636, w1=11.0348948659891\n",
      "Gradient Descent(48/49): loss=65.93073010260339, w0=74.06780585492636, w1=11.0348948659891\n",
      "Gradient Descent(49/49): loss=65.93073010260339, w0=74.06780585492636, w1=11.0348948659891\n",
      "Gradient Descent: execution time=0.000 seconds\n"
     ]
    }
   ],
   "source": [
    "# from gradient_descent import *\n",
    "from plots import gradient_descent_visualization\n",
    "\n",
    "# Define the parameters of the algorithm.\n",
    "max_iters = 50\n",
    "gamma = 0.7\n",
    "\n",
    "# Initialization\n",
    "w_initial = np.array([0, 0])\n",
    "\n",
    "# Start gradient descent.\n",
    "start_time = datetime.datetime.now()\n",
    "gradient_losses, gradient_ws = gradient_descent(y, tx, w_initial, max_iters, gamma)\n",
    "end_time = datetime.datetime.now()\n",
    "\n",
    "# Print result\n",
    "exection_time = (end_time - start_time).total_seconds()\n",
    "print(\"Gradient Descent: execution time={t:.3f} seconds\".format(t=exection_time))"
   ]
  },
  {
   "cell_type": "code",
   "execution_count": 62,
   "metadata": {
    "collapsed": false
   },
   "outputs": [
    {
     "data": {
      "text/plain": [
       "<function __main__.plot_figure>"
      ]
     },
     "execution_count": 62,
     "metadata": {},
     "output_type": "execute_result"
    },
    {
     "data": {
      "image/png": "[encoded data removed]",
      "text/plain": [
       "<matplotlib.figure.Figure at 0x8358978>"
      ]
     },
     "metadata": {},
     "output_type": "display_data"
    }
   ],
   "source": [
    "# Time Visualization\n",
    "from ipywidgets import IntSlider, interact\n",
    "\n",
    "def plot_figure(n_iter):\n",
    "    fig = gradient_descent_visualization(\n",
    "        gradient_losses, gradient_ws, grid_losses, grid_w0, grid_w1, mean_x, std_x, height, weight, n_iter)\n",
    "    fig.set_size_inches(10.0, 6.0)\n",
    "\n",
    "interact(plot_figure, n_iter=IntSlider(min=1, max=len(gradient_ws)))"
   ]
  },
  {
   "cell_type": "markdown",
   "metadata": {},
   "source": [
    "# 4 Stochastic gradient descent"
   ]
  },
  {
   "cell_type": "code",
   "execution_count": 63,
   "metadata": {
    "collapsed": true
   },
   "outputs": [],
   "source": [
    "def compute_stoch_gradient(y, tx, w):\n",
    "    \"\"\"Compute a stochastic gradient from just few examples n and their corresponding y_n labels.\"\"\"\n",
    "    # ***************************************************\n",
    "    # INSERT YOUR CODE HERE\n",
    "    # TODO: implement stochastic gradient computation.It's same as the gradient descent.\n",
    "    # ***************************************************\n",
    "    e = y - tx.dot(w)\n",
    "    gradient = -1/(np.shape(tx)[0]) * tx.T.dot(e)\n",
    "    return gradient    \n",
    "\n",
    "def stochastic_gradient_descent(\n",
    "        y, tx, initial_w, batch_size, max_iters, gamma):\n",
    "    \"\"\"Gradient descent algorithm.\"\"\"\n",
    "    # Define parameters to store w and loss\n",
    "    ws = [initial_w]\n",
    "    losses = []\n",
    "    w = initial_w\n",
    "    for n_iter in range(max_iters):\n",
    "        # ***************************************************\n",
    "        # INSERT YOUR CODE HERE\n",
    "        # TODO: compute gradient and loss\n",
    "        # ***************************************************\n",
    "        y_batch, tx_batch = [batch for batch in batch_iter(y,tx, batch_size)][0]\n",
    "        gradient = compute_gradient(y_batch,tx_batch,w)\n",
    "        loss = compute_loss(y,tx,w)\n",
    "        # ***************************************************\n",
    "        # INSERT YOUR CODE HERE\n",
    "        # TODO: update w by gradient\n",
    "        # ***************************************************\n",
    "        w = w - gamma * gradient\n",
    "        # store w and loss\n",
    "        ws.append(w)\n",
    "        losses.append(loss)\n",
    "        print(\"Gradient Descent({bi}/{ti}): loss={l}, w0={w0}, w1={w1}\".format(\n",
    "              bi=n_iter, ti=max_iters - 1, l=loss, w0=w[0], w1=w[1]))\n",
    "    \n",
    "    return losses, ws"
   ]
  },
  {
   "cell_type": "code",
   "execution_count": 64,
   "metadata": {
    "collapsed": false
   },
   "outputs": [
    {
     "name": "stdout",
     "output_type": "stream",
     "text": [
      "Gradient Descent(0/49): loss=2869.8351145358524, w0=53.08732745250748, w1=7.342663907687982\n",
      "Gradient Descent(1/49): loss=292.8372518245047, w0=66.74363152482258, w1=12.705251277224455\n",
      "Gradient Descent(2/49): loss=94.14754018175653, w0=71.45226768784175, w1=11.70131440075806\n",
      "Gradient Descent(3/49): loss=69.57330755250238, w0=73.54546008632765, w1=7.708658659925852\n",
      "Gradient Descent(4/49): loss=71.59907630285288, w0=72.87451703349723, w1=11.696702697931222\n",
      "Gradient Descent(5/49): loss=66.8616940114872, w0=73.94230782952718, w1=10.853455299343633\n",
      "Gradient Descent(6/49): loss=65.95506513796518, w0=74.06163816968689, w1=11.411350950244838\n",
      "Gradient Descent(7/49): loss=66.00160871446057, w0=73.74788706249315, w1=11.657492265888305\n",
      "Gradient Descent(8/49): loss=66.17571788065997, w0=73.24871130467967, w1=14.02273430944892\n",
      "Gradient Descent(9/49): loss=70.72978031367244, w0=74.71353413218941, w1=8.813329245023109\n",
      "Gradient Descent(10/49): loss=68.60688951076094, w0=73.87515403877872, w1=10.430685097480085\n",
      "Gradient Descent(11/49): loss=66.13182218591672, w0=73.19462116999087, w1=13.730822075250963\n",
      "Gradient Descent(12/49): loss=69.94596760842555, w0=74.13491457028049, w1=11.649463026825146\n",
      "Gradient Descent(13/49): loss=66.1218289045983, w0=72.78751453475222, w1=13.932086247737832\n",
      "Gradient Descent(14/49): loss=70.94716198609956, w0=73.37061659528125, w1=12.187531957278477\n",
      "Gradient Descent(15/49): loss=66.83805266659364, w0=72.49359548647824, w1=14.305855618547374\n",
      "Gradient Descent(16/49): loss=72.51939136705644, w0=72.87144352102338, w1=12.196324461354411\n",
      "Gradient Descent(17/49): loss=67.32083087208949, w0=73.58659766823371, w1=11.874946572305014\n",
      "Gradient Descent(18/49): loss=66.39935419671554, w0=73.80667017161501, w1=11.530309558183422\n",
      "Gradient Descent(19/49): loss=66.08754388377362, w0=74.35091816543127, w1=7.955546499009803\n",
      "Gradient Descent(20/49): loss=70.71199957539213, w0=74.28296153905248, w1=10.403142987726667\n",
      "Gradient Descent(21/49): loss=66.15343130465331, w0=74.51444834024053, w1=10.583416948696218\n",
      "Gradient Descent(22/49): loss=66.13239101234876, w0=73.6240686469835, w1=13.52205876154183\n",
      "Gradient Descent(23/49): loss=69.12217357913035, w0=73.93963945332689, w1=11.359971284104084\n",
      "Gradient Descent(24/49): loss=65.99178075466007, w0=74.23145787005153, w1=8.171509370678443\n",
      "Gradient Descent(25/49): loss=70.04360934100838, w0=74.09862384003682, w1=10.635599901910748\n",
      "Gradient Descent(26/49): loss=66.01092321087569, w0=74.24190689496201, w1=7.979439539587077\n",
      "Gradient Descent(27/49): loss=70.61378931449337, w0=73.6608259840113, w1=11.787312259350749\n",
      "Gradient Descent(28/49): loss=66.29661237718497, w0=73.79196262079964, w1=14.492244281493104\n",
      "Gradient Descent(29/49): loss=71.94540733795306, w0=73.91579948390174, w1=12.238907791842642\n",
      "Gradient Descent(30/49): loss=66.66710663383061, w0=73.95079050112481, w1=11.612201659661846\n",
      "Gradient Descent(31/49): loss=66.10421796612638, w0=74.05765461042667, w1=10.856482468093397\n",
      "Gradient Descent(32/49): loss=65.94669711834727, w0=74.26456045230147, w1=10.918263766060212\n",
      "Gradient Descent(33/49): loss=65.9568876951328, w0=74.07476621036373, w1=11.062748498161397\n",
      "Gradient Descent(34/49): loss=65.93114223828988, w0=73.33447299856812, w1=14.33586562731832\n",
      "Gradient Descent(35/49): loss=71.64782262528585, w0=73.84251746783605, w1=11.445141347837978\n",
      "Gradient Descent(36/49): loss=66.04025861921696, w0=74.22292675450855, w1=11.466295804366979\n",
      "Gradient Descent(37/49): loss=66.03581473416362, w0=73.64524020059717, w1=10.957435867606973\n",
      "Gradient Descent(38/49): loss=66.02301091692789, w0=74.56354690988886, w1=11.377758553875353\n",
      "Gradient Descent(39/49): loss=66.11238745362651, w0=74.2686852139341, w1=14.076727738378363\n",
      "Gradient Descent(40/49): loss=70.577279972815, w0=73.8957631719175, w1=12.376200423362896\n",
      "Gradient Descent(41/49): loss=66.84507974411274, w0=74.29613120418253, w1=11.3782939316865\n",
      "Gradient Descent(42/49): loss=66.01575779432078, w0=75.11904245814587, w1=8.551238504861631\n",
      "Gradient Descent(43/49): loss=69.5675537606621, w0=74.67208385113967, w1=7.1652907979627125\n",
      "Gradient Descent(44/49): loss=73.60022387260034, w0=73.654665798586, w1=9.771408094016461\n",
      "Gradient Descent(45/49): loss=66.81427186715476, w0=73.83496020783303, w1=10.726180927007942\n",
      "Gradient Descent(46/49): loss=66.00549079834917, w0=73.82954291620318, w1=11.044397175115437\n",
      "Gradient Descent(47/49): loss=65.95915986352726, w0=74.30944852350804, w1=8.283553361684124\n",
      "Gradient Descent(48/49): loss=69.7448657288986, w0=73.62358779106907, w1=9.567976773108846\n",
      "Gradient Descent(49/49): loss=67.10531929234166, w0=73.50905294777623, w1=13.236235659067198\n",
      "SGD: execution time=0.020 seconds\n"
     ]
    }
   ],
   "source": [
    "# from stochastic_gradient_descent import *\n",
    "\n",
    "# Define the parameters of the algorithm.\n",
    "max_iters = 50\n",
    "gamma = 0.7\n",
    "batch_size = 100\n",
    "\n",
    "# Initialization\n",
    "w_initial = np.array([0, 0])\n",
    "\n",
    "# Start SGD.\n",
    "start_time = datetime.datetime.now()\n",
    "sgd_losses, sgd_ws = stochastic_gradient_descent(\n",
    "    y, tx, w_initial, batch_size, max_iters, gamma)\n",
    "end_time = datetime.datetime.now()\n",
    "\n",
    "# Print result\n",
    "exection_time = (end_time - start_time).total_seconds()\n",
    "print(\"SGD: execution time={t:.3f} seconds\".format(t=exection_time))"
   ]
  },
  {
   "cell_type": "code",
   "execution_count": 65,
   "metadata": {
    "collapsed": false
   },
   "outputs": [
    {
     "data": {
      "image/png": "[encoded data removed]",
      "text/plain": [
       "<matplotlib.figure.Figure at 0x7b11860>"
      ]
     },
     "metadata": {},
     "output_type": "display_data"
    }
   ],
   "source": [
    "# Time Visualization\n",
    "from ipywidgets import IntSlider, interact\n",
    "def plot_figure(n_iter):\n",
    "    fig = gradient_descent_visualization(\n",
    "        sgd_losses, sgd_ws, grid_losses, grid_w0, grid_w1, mean_x, std_x, height, weight, n_iter)\n",
    "    fig.set_size_inches(10.0, 6.0)\n",
    "\n",
    "interact(plot_figure, n_iter=IntSlider(min=1, max=len(gradient_ws)))"
   ]
  },
  {
   "cell_type": "markdown",
   "metadata": {},
   "source": [
    "# 5 Effect of Outliers and MAE Cost Function, and Subgradient Descent"
   ]
  },
  {
   "cell_type": "markdown",
   "metadata": {},
   "source": [
    "### Exercise 5\n",
    "\n",
    "Load and plot data containing outliers"
   ]
  },
  {
   "cell_type": "code",
   "execution_count": 53,
   "metadata": {
    "collapsed": true
   },
   "outputs": [],
   "source": [
    "height, weight, gender = load_data(sub_sample=True, add_outlier=False)\n",
    "x, mean_x, std_x = standardize(height)\n",
    "y, tx = build_model_data(x, weight)"
   ]
  },
  {
   "cell_type": "markdown",
   "metadata": {},
   "source": [
    "### Exercise 6"
   ]
  },
  {
   "cell_type": "markdown",
   "metadata": {},
   "source": [
    "Modify the function `compute_loss(y, tx, w)` for the Mean Absolute Error cost function [here](#compute_loss)"
   ]
  }
 ],
 "metadata": {
  "anaconda-cloud": {},
  "kernelspec": {
   "display_name": "Python [Root]",
   "language": "python",
   "name": "Python [Root]"
  },
  "language_info": {
   "codemirror_mode": {
    "name": "ipython",
    "version": 3
   },
   "file_extension": ".py",
   "mimetype": "text/x-python",
   "name": "python",
   "nbconvert_exporter": "python",
   "pygments_lexer": "ipython3",
   "version": "3.5.2"
  }
 },
 "nbformat": 4,
 "nbformat_minor": 1
}
