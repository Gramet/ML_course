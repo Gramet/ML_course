{
 "cells": [
  {
   "cell_type": "code",
   "execution_count": 1,
   "metadata": {
    "collapsed": true
   },
   "outputs": [],
   "source": [
    "%matplotlib inline\n",
    "import numpy as np\n",
    "import matplotlib.pyplot as plt\n",
    "%load_ext autoreload\n",
    "%autoreload 2"
   ]
  },
  {
   "cell_type": "markdown",
   "metadata": {},
   "source": [
    "Data Generation\n",
    "==="
   ]
  },
  {
   "cell_type": "code",
   "execution_count": 2,
   "metadata": {
    "collapsed": false
   },
   "outputs": [
    {
     "name": "stdout",
     "output_type": "stream",
     "text": [
      "[[ 0.77132064  0.02075195]\n",
      " [ 0.63364823  0.74880388]\n",
      " [ 0.49850701  0.22479665]\n",
      " [ 0.19806286  0.76053071]] \n",
      "\n",
      " [[ 0.16911084  0.08833981]\n",
      " [ 0.68535982  0.95339335]\n",
      " [ 0.00394827  0.51219226]\n",
      " [ 0.81262096  0.61252607]\n",
      " [ 0.72175532  0.29187607]]\n"
     ]
    }
   ],
   "source": [
    "np.random.seed(10)\n",
    "p, q = (np.random.rand(i, 2) for i in (4, 5))\n",
    "p_big, q_big = (np.random.rand(i, 80) for i in (100, 120))\n",
    "\n",
    "print(p, \"\\n\\n\", q)"
   ]
  },
  {
   "cell_type": "markdown",
   "metadata": {},
   "source": [
    "Solution\n",
    "==="
   ]
  },
  {
   "cell_type": "code",
   "execution_count": 29,
   "metadata": {
    "collapsed": false
   },
   "outputs": [
    {
     "data": {
      "text/plain": [
       "array([[ 0.60599073,  0.93659449,  0.91124856,  0.59321356,  0.27561751],\n",
       "       [ 0.80746999,  0.21102354,  0.67268649,  0.22495084,  0.46534491],\n",
       "       [ 0.35654215,  0.75217493,  0.57200052,  0.49900068,  0.23310825],\n",
       "       [ 0.67281411,  0.52407472,  0.31520226,  0.63212897,  0.70277376]])"
      ]
     },
     "execution_count": 29,
     "metadata": {},
     "output_type": "execute_result"
    }
   ],
   "source": [
    "def naive(p, q):\n",
    "    ''' fill your code in here...\n",
    "    '''\n",
    "    d = np.zeros((np.shape(p)[0], np.shape(q)[0]))\n",
    "    \n",
    "    for i in range(0, np.shape(p)[0]):\n",
    "        for j in range(0, np.shape(q)[0]):\n",
    "            d[i][j] = np.linalg.norm(p[i] - q[j])\n",
    "    return d\n",
    "\n",
    "naive(p,q)"
   ]
  },
  {
   "cell_type": "markdown",
   "metadata": {},
   "source": [
    "### Use matching indices\n",
    "\n",
    "Instead of iterating through indices, one can use them directly to parallelize the operations with Numpy."
   ]
  },
  {
   "cell_type": "code",
   "execution_count": 30,
   "metadata": {
    "collapsed": false
   },
   "outputs": [
    {
     "name": "stdout",
     "output_type": "stream",
     "text": [
      "[[0 0 0 0 0]\n",
      " [1 1 1 1 1]\n",
      " [2 2 2 2 2]\n",
      " [3 3 3 3 3]]\n",
      "\n",
      "[[0 1 2 3 4]\n",
      " [0 1 2 3 4]\n",
      " [0 1 2 3 4]\n",
      " [0 1 2 3 4]]\n"
     ]
    }
   ],
   "source": [
    "rows, cols = np.indices((p.shape[0], q.shape[0]))\n",
    "print(rows, end='\\n\\n')\n",
    "print(cols)"
   ]
  },
  {
   "cell_type": "code",
   "execution_count": 31,
   "metadata": {
    "collapsed": false
   },
   "outputs": [
    {
     "name": "stdout",
     "output_type": "stream",
     "text": [
      "[[ 0.77132064  0.02075195]\n",
      " [ 0.77132064  0.02075195]\n",
      " [ 0.77132064  0.02075195]\n",
      " [ 0.77132064  0.02075195]\n",
      " [ 0.77132064  0.02075195]\n",
      " [ 0.63364823  0.74880388]\n",
      " [ 0.63364823  0.74880388]\n",
      " [ 0.63364823  0.74880388]\n",
      " [ 0.63364823  0.74880388]\n",
      " [ 0.63364823  0.74880388]\n",
      " [ 0.49850701  0.22479665]\n",
      " [ 0.49850701  0.22479665]\n",
      " [ 0.49850701  0.22479665]\n",
      " [ 0.49850701  0.22479665]\n",
      " [ 0.49850701  0.22479665]\n",
      " [ 0.19806286  0.76053071]\n",
      " [ 0.19806286  0.76053071]\n",
      " [ 0.19806286  0.76053071]\n",
      " [ 0.19806286  0.76053071]\n",
      " [ 0.19806286  0.76053071]]\n",
      "\n",
      "[[ 0.16911084  0.08833981]\n",
      " [ 0.68535982  0.95339335]\n",
      " [ 0.00394827  0.51219226]\n",
      " [ 0.81262096  0.61252607]\n",
      " [ 0.72175532  0.29187607]\n",
      " [ 0.16911084  0.08833981]\n",
      " [ 0.68535982  0.95339335]\n",
      " [ 0.00394827  0.51219226]\n",
      " [ 0.81262096  0.61252607]\n",
      " [ 0.72175532  0.29187607]\n",
      " [ 0.16911084  0.08833981]\n",
      " [ 0.68535982  0.95339335]\n",
      " [ 0.00394827  0.51219226]\n",
      " [ 0.81262096  0.61252607]\n",
      " [ 0.72175532  0.29187607]\n",
      " [ 0.16911084  0.08833981]\n",
      " [ 0.68535982  0.95339335]\n",
      " [ 0.00394827  0.51219226]\n",
      " [ 0.81262096  0.61252607]\n",
      " [ 0.72175532  0.29187607]]\n"
     ]
    }
   ],
   "source": [
    "print(p[rows.ravel()], end='\\n\\n')\n",
    "print(q[cols.ravel()])"
   ]
  },
  {
   "cell_type": "code",
   "execution_count": 32,
   "metadata": {
    "collapsed": false
   },
   "outputs": [
    {
     "data": {
      "text/plain": [
       "array([[ 0.60599073,  0.93659449,  0.91124856,  0.59321356,  0.27561751],\n",
       "       [ 0.80746999,  0.21102354,  0.67268649,  0.22495084,  0.46534491],\n",
       "       [ 0.35654215,  0.75217493,  0.57200052,  0.49900068,  0.23310825],\n",
       "       [ 0.67281411,  0.52407472,  0.31520226,  0.63212897,  0.70277376]])"
      ]
     },
     "execution_count": 32,
     "metadata": {},
     "output_type": "execute_result"
    }
   ],
   "source": [
    "def with_indices(p, q):\n",
    "    ''' fill your code in here...\n",
    "    '''\n",
    "    rows, cols = np.indices((p.shape[0], q.shape[0]))\n",
    "    dist = np.linalg.norm(p[rows.ravel()] - q[cols.ravel()], axis=1)\n",
    "    d = np.reshape(dist, (np.shape(p)[0], np.shape(q)[0]))\n",
    "    return d\n",
    "with_indices(p,q)"
   ]
  },
  {
   "cell_type": "markdown",
   "metadata": {},
   "source": [
    "### Use a library\n",
    "\n",
    "`scipy` is the equivalent of matlab toolboxes and have a lot to offer. Actually the pairwise computation is part of the library through the `spatial` module."
   ]
  },
  {
   "cell_type": "code",
   "execution_count": 33,
   "metadata": {
    "collapsed": true
   },
   "outputs": [],
   "source": [
    "from scipy.spatial.distance import cdist\n",
    "\n",
    "def scipy_version(p, q):\n",
    "    return cdist(p, q)"
   ]
  },
  {
   "cell_type": "markdown",
   "metadata": {},
   "source": [
    "### Numpy Magic"
   ]
  },
  {
   "cell_type": "code",
   "execution_count": 34,
   "metadata": {
    "collapsed": true
   },
   "outputs": [],
   "source": [
    "def tensor_broadcasting(p, q):\n",
    "    return np.sqrt(np.sum((p[:,np.newaxis,:]-q[np.newaxis,:,:])**2, axis=2))"
   ]
  },
  {
   "cell_type": "markdown",
   "metadata": {},
   "source": [
    "# Compare methods"
   ]
  },
  {
   "cell_type": "code",
   "execution_count": 35,
   "metadata": {
    "collapsed": false
   },
   "outputs": [
    {
     "name": "stdout",
     "output_type": "stream",
     "text": [
      "10 loops, best of 3: 189 ms per loop\n",
      "10 loops, best of 3: 34.9 ms per loop\n",
      "1000 loops, best of 3: 1.98 ms per loop\n",
      "10 loops, best of 3: 26.1 ms per loop\n"
     ]
    }
   ],
   "source": [
    "methods = [naive, with_indices, scipy_version, tensor_broadcasting]\n",
    "timers = []\n",
    "for f in methods:\n",
    "    r = %timeit -o f(p_big, q_big)\n",
    "    timers.append(r)"
   ]
  },
  {
   "cell_type": "code",
   "execution_count": 36,
   "metadata": {
    "collapsed": false
   },
   "outputs": [
    {
     "data": {
      "image/png": "[encoded data removed]",
      "text/plain": [
       "<matplotlib.figure.Figure at 0x7902a58>"
      ]
     },
     "metadata": {},
     "output_type": "display_data"
    }
   ],
   "source": [
    "plt.figure(figsize=(10,6))\n",
    "plt.bar(np.arange(len(methods)), [r.best*1000 for r in timers], log=False)  # Set log to True for logarithmic scale\n",
    "plt.xticks(np.arange(len(methods))+0.2, [f.__name__ for f in methods], rotation=30)\n",
    "plt.xlabel('Method')\n",
    "plt.ylabel('Time (ms)')\n",
    "plt.show()"
   ]
  },
  {
   "cell_type": "code",
   "execution_count": null,
   "metadata": {
    "collapsed": true
   },
   "outputs": [],
   "source": []
  }
 ],
 "metadata": {
  "kernelspec": {
   "display_name": "Python [Root]",
   "language": "python",
   "name": "Python [Root]"
  },
  "language_info": {
   "codemirror_mode": {
    "name": "ipython",
    "version": 3
   },
   "file_extension": ".py",
   "mimetype": "text/x-python",
   "name": "python",
   "nbconvert_exporter": "python",
   "pygments_lexer": "ipython3",
   "version": "3.5.2"
  }
 },
 "nbformat": 4,
 "nbformat_minor": 1
}
